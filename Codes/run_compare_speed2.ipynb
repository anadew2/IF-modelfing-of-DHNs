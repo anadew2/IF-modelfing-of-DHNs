{
 "cells": [
  {
   "cell_type": "code",
   "execution_count": null,
   "metadata": {},
   "outputs": [],
   "source": [
    "using Plots; gr()\n",
    "using DifferentialEquations\n",
    "using BenchmarkTools"
   ]
  },
  {
   "cell_type": "code",
   "execution_count": null,
   "metadata": {},
   "outputs": [],
   "source": [
    "# [Van-Pottelbergh 2018]\n",
    "# T. Van Pottelbergh, G. Drion, and R. Sepulchre.\n",
    "# Robust modulation of integrate-and-fire models.\n",
    "# Neural Computation, 30(4):987–1011, Apr. 2018."
   ]
  },
  {
   "cell_type": "markdown",
   "metadata": {},
   "source": [
    "# Model definition"
   ]
  },
  {
   "cell_type": "code",
   "execution_count": null,
   "metadata": {},
   "outputs": [],
   "source": [
    "# parameters\n",
    "C     = 1.\n",
    "taus  = 10.\n",
    "tauus = 100.\n",
    "\n",
    "Vmax = 50.\n",
    "\n",
    "gf  = -1. # inverse sign compared with [Van-Pottelbergh 2018]\n",
    "gs  = 0.5\n",
    "gus = 0.015\n",
    "\n",
    "V0   = -40.\n",
    "Vs0  = -38.4\n",
    "Vus0 = -50.\n",
    "\n",
    "Vr    = -40.\n",
    "Vsr   = -35.\n",
    "DVusr =   3.\n",
    "\n",
    "# input\n",
    "I0 = 5.\n",
    "Iapp(t) = I0 ;"
   ]
  },
  {
   "cell_type": "code",
   "execution_count": null,
   "metadata": {},
   "outputs": [],
   "source": [
    "function f!(dx,x,p,t)\n",
    "    V    = x[1]\n",
    "    Vs   = x[2]\n",
    "    Vus  = x[3]\n",
    "    Iion  = gf*(V - V0)^2 + gs*(Vs - Vs0)^2 + gus*(Vus - Vus0)^2 \n",
    "    # inverse sign in front of gf\n",
    "    dx[1] = 1/C * ( Iapp(t) - Iion )\n",
    "    dx[2] = 1/taus  * (V - Vs )\n",
    "    dx[3] = 1/tauus * (V - Vus)\n",
    "end\n",
    "\n",
    "function spike(x)  # spikes when spike(x) goes from negative to positive\n",
    "    (x[1] - Vmax)\n",
    "end\n",
    "\n",
    "function reset!(x) # reset function\n",
    "    x[1] = Vr\n",
    "    x[2] = Vsr\n",
    "    x[3] = x[3] + DVusr\n",
    "end"
   ]
  },
  {
   "cell_type": "code",
   "execution_count": null,
   "metadata": {},
   "outputs": [],
   "source": [
    "x0    = [-40.0;-40.0;-40.0]\n",
    "tspan = (0.0,500.0)"
   ]
  },
  {
   "cell_type": "markdown",
   "metadata": {},
   "source": [
    "# Julia Solver (DifferentialEquations.jl)"
   ]
  },
  {
   "cell_type": "code",
   "execution_count": null,
   "metadata": {},
   "outputs": [],
   "source": [
    "# event when event_f(u,t) == 0\n",
    "function condition(x,t,integrator) # \n",
    "    spike(x)\n",
    "end\n",
    "# when condition == 0 and upcrossing (from negative to positive) \n",
    "function affect!(integrator)      \n",
    "    reset!(integrator.u)\n",
    "end\n",
    "\n",
    "cb   = ContinuousCallback(condition,affect!,nothing)\n",
    "prob = ODEProblem(f!,x0,tspan,callback=cb)\n",
    "\n",
    "sol  = solve(prob,dense=false);  # dense=false, avoids nonlinear interpolations between time steps when plotting (no impact on computation)"
   ]
  },
  {
   "cell_type": "code",
   "execution_count": null,
   "metadata": {},
   "outputs": [],
   "source": [
    "p1 = plot(sol,label=[\"V\" \"Vs\" \"Vus\"])\n",
    "pu = plot(sol.t,Iapp.(sol.t),label=\"Iapp\")\n",
    "plot(p1, pu, layout = (2,1))"
   ]
  },
  {
   "cell_type": "markdown",
   "metadata": {},
   "source": [
    "# Homemade Euler integration"
   ]
  },
  {
   "cell_type": "code",
   "execution_count": null,
   "metadata": {},
   "outputs": [],
   "source": [
    "function solve_homemade_euler(dt)\n",
    "    t = []\n",
    "    x = []\n",
    "    dx = zeros(length(x0))\n",
    "    x  = push!(x,x0)\n",
    "    t  = push!(t,tspan[1])\n",
    "    while t[end] < tspan[2]\n",
    "\n",
    "        # flow\n",
    "        f!(dx,x[end],[],t[end])\n",
    "        x = push!(x,x[end] + dt*dx)\n",
    "        t = push!(t,t[end] + dt)\n",
    "        \n",
    "        # jump\n",
    "        if spike(x[end]) > 0\n",
    "            x = push!(x,x[end])\n",
    "            t = push!(t,t[end])            \n",
    "            reset!(x[end])\n",
    "        end\n",
    "        \n",
    "    end\n",
    "    return t, x\n",
    "end"
   ]
  },
  {
   "cell_type": "code",
   "execution_count": null,
   "metadata": {},
   "outputs": [],
   "source": [
    "function solve_homemade_euler2(dt)\n",
    "    \n",
    "    t = collect(tspan[1]:dt:tspan[2])\n",
    "    n = length(t)\n",
    "    x = fill(zeros(size(x0)), n, 1)\n",
    "    \n",
    "    x[1] = x0\n",
    "    \n",
    "    dx = zeros(length(x0))\n",
    "    for i in 1:n-1\n",
    "\n",
    "        # flow\n",
    "        f!(dx,x[i],[],t[i])\n",
    "        x[i+1] = x[i] + dt*dx\n",
    "        \n",
    "        # jump\n",
    "        if spike(x[i+1]) > 0\n",
    "            reset!(x[i+1])                                \n",
    "        end\n",
    "        \n",
    "    end\n",
    "    return t, x\n",
    "end"
   ]
  },
  {
   "cell_type": "code",
   "execution_count": null,
   "metadata": {},
   "outputs": [],
   "source": [
    "dt   = 0.01\n",
    "\n",
    "t, x = solve_homemade_euler(dt);\n",
    "\n",
    "p1 = plot(t,hcat(x...)',label=[\"V\" \"Vs\" \"Vus\"])\n",
    "pu = plot(t,Iapp.(t),label=\"Iapp\")\n",
    "plot(p1, pu, layout = (2,1))"
   ]
  },
  {
   "cell_type": "code",
   "execution_count": null,
   "metadata": {},
   "outputs": [],
   "source": [
    "t, x = solve_homemade_euler2(dt);\n",
    "\n",
    "p1 = plot(t,hcat(x...)',label=[\"V\" \"Vs\" \"Vus\"])\n",
    "pu = plot(t,Iapp.(t),label=\"Iapp\")\n",
    "plot(p1, pu, layout = (2,1))"
   ]
  },
  {
   "cell_type": "markdown",
   "metadata": {},
   "source": [
    "# Benchmarking\n",
    "\n",
    "The benchmarking takes about 10 minutes..."
   ]
  },
  {
   "cell_type": "code",
   "execution_count": null,
   "metadata": {},
   "outputs": [],
   "source": [
    "#BenchmarkTools.DEFAULT_PARAMETERS.samples = 20\n",
    "BenchmarkTools.DEFAULT_PARAMETERS.seconds = 10*5 # seconds\n",
    "\n",
    "tim = []\n",
    "mem = []\n",
    "all = []\n",
    "lab = [];"
   ]
  },
  {
   "cell_type": "code",
   "execution_count": null,
   "metadata": {},
   "outputs": [],
   "source": [
    "# benchmak Julia solver\n",
    "let b\n",
    "    b = @benchmark solve(prob,dense=false)\n",
    "    push!( lab, \" auto \")\n",
    "    push!( tim, mean(b).time) # log of times in sec\n",
    "    push!( mem, mean(b).memory)\n",
    "    push!( all, mean(b).allocs)\n",
    "end\n",
    "\n",
    "dt_vec = [0.01,0.001,0.0001]\n",
    "\n",
    "for dt in dt_vec\n",
    "    \n",
    "    # benchmak Euler1\n",
    "    b = @benchmark solve_homemade_euler($dt)\n",
    "    push!( lab, \" HM1 $dt \")\n",
    "    push!( tim, mean(b).time)\n",
    "    push!( mem, mean(b).memory)\n",
    "    push!( all, mean(b).allocs)\n",
    "    println(string(\"dt = \", dt,\", \", length(b.times),\" samples\"))\n",
    "    \n",
    "    # benchmak Euler2\n",
    "    b = @benchmark solve_homemade_euler2($dt)\n",
    "    push!( lab, \" HM2 $dt \")\n",
    "    push!( tim, mean(b).time) \n",
    "    push!( mem, mean(b).memory)\n",
    "    push!( all, mean(b).allocs)\n",
    "    println(string(\"dt = \", dt,\", \", length(b.times),\" samples\"))\n",
    "    \n",
    "end"
   ]
  },
  {
   "cell_type": "code",
   "execution_count": null,
   "metadata": {},
   "outputs": [],
   "source": [
    "scatter(log10.(tim/1e9),xticks=(collect(1:length(lab)),lab))\n",
    "ylabel!(\"log_10 time (s)\")"
   ]
  },
  {
   "cell_type": "code",
   "execution_count": null,
   "metadata": {},
   "outputs": [],
   "source": [
    "scatter(log10.(mem/1e3),xticks=(collect(1:length(lab)),lab))\n",
    "ylabel!(\"log_10 memory (KiB)\")"
   ]
  },
  {
   "cell_type": "code",
   "execution_count": null,
   "metadata": {},
   "outputs": [],
   "source": [
    "scatter(log10.(all),xticks=(collect(1:length(lab)),lab))\n",
    "ylabel!(\"log_10 alloc (-)\")"
   ]
  }
 ],
 "metadata": {
  "kernelspec": {
   "display_name": "Julia 1.5.1",
   "language": "julia",
   "name": "julia-1.5"
  },
  "language_info": {
   "file_extension": ".jl",
   "mimetype": "application/julia",
   "name": "julia",
   "version": "1.5.1"
  }
 },
 "nbformat": 4,
 "nbformat_minor": 4
}
